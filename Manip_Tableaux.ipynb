{
 "cells": [
  {
   "cell_type": "markdown",
   "id": "37898494-764c-43a9-8561-35fc10e1c1a0",
   "metadata": {},
   "source": [
    "# 1. Tableau a 1D"
   ]
  },
  {
   "cell_type": "code",
   "execution_count": 3,
   "id": "8ebd0aa7-e107-4605-936d-700f681836e2",
   "metadata": {},
   "outputs": [],
   "source": [
    "# importer les packages\n",
    "import numpy as np"
   ]
  },
  {
   "cell_type": "code",
   "execution_count": 4,
   "id": "0efd12e5-ae51-4396-866b-e6fe58b883e5",
   "metadata": {},
   "outputs": [],
   "source": [
    "tabeau_1D = np.array([2, 4, 6, 8, 10])"
   ]
  },
  {
   "cell_type": "code",
   "execution_count": 5,
   "id": "70c475ed-5dcc-470e-8456-569f4dd8b72d",
   "metadata": {},
   "outputs": [
    {
     "data": {
      "text/plain": [
       "array([ 2,  4,  6,  8, 10])"
      ]
     },
     "execution_count": 5,
     "metadata": {},
     "output_type": "execute_result"
    }
   ],
   "source": [
    "tabeau_1D"
   ]
  },
  {
   "cell_type": "code",
   "execution_count": 6,
   "id": "1a60e9eb-34d2-497e-b529-169f3ce5031e",
   "metadata": {},
   "outputs": [
    {
     "name": "stdout",
     "output_type": "stream",
     "text": [
      "[ 2  4  6  8 10]\n"
     ]
    }
   ],
   "source": [
    "print(tabeau_1D)"
   ]
  },
  {
   "cell_type": "code",
   "execution_count": 11,
   "id": "aeaf1e14-02c7-4556-a5f8-97143989697e",
   "metadata": {},
   "outputs": [
    {
     "data": {
      "text/plain": [
       "(5,)"
      ]
     },
     "execution_count": 11,
     "metadata": {},
     "output_type": "execute_result"
    }
   ],
   "source": [
    "tabeau_1D.shape"
   ]
  },
  {
   "cell_type": "markdown",
   "id": "fb7ec15d-0f7d-4955-af12-0d8641a2cf45",
   "metadata": {},
   "source": [
    "# 2. Tableau 2D"
   ]
  },
  {
   "cell_type": "code",
   "execution_count": 7,
   "id": "7ed334ad-8a41-475d-9e6c-84cc89f4e457",
   "metadata": {},
   "outputs": [],
   "source": [
    "tableau_2D = np.array([[2, 4, 6, 7],\n",
    "                       [20, 40, 60, 70]\n",
    "                      ])"
   ]
  },
  {
   "cell_type": "code",
   "execution_count": 9,
   "id": "f2000dc3-a4fc-436a-a648-59f920b4d171",
   "metadata": {},
   "outputs": [
    {
     "data": {
      "text/plain": [
       "array([[ 2,  4,  6,  7],\n",
       "       [20, 40, 60, 70]])"
      ]
     },
     "execution_count": 9,
     "metadata": {},
     "output_type": "execute_result"
    }
   ],
   "source": [
    "tableau_2D"
   ]
  },
  {
   "cell_type": "code",
   "execution_count": 10,
   "id": "ebf3d72b-5f61-46d8-97c9-45d53a6c21b3",
   "metadata": {},
   "outputs": [
    {
     "name": "stdout",
     "output_type": "stream",
     "text": [
      "[[ 2  4  6  7]\n",
      " [20 40 60 70]]\n"
     ]
    }
   ],
   "source": [
    "print(tableau_2D)"
   ]
  },
  {
   "cell_type": "code",
   "execution_count": 12,
   "id": "511c027e-dd9d-4e53-b9bd-0538c0adf59f",
   "metadata": {},
   "outputs": [
    {
     "data": {
      "text/plain": [
       "(2, 4)"
      ]
     },
     "execution_count": 12,
     "metadata": {},
     "output_type": "execute_result"
    }
   ],
   "source": [
    "tableau_2D.shape"
   ]
  },
  {
   "cell_type": "code",
   "execution_count": 19,
   "id": "bb1c8d0f-0e0a-4a8b-ac0f-e3a59c7a5b14",
   "metadata": {},
   "outputs": [
    {
     "data": {
      "text/plain": [
       "np.int64(40)"
      ]
     },
     "execution_count": 19,
     "metadata": {},
     "output_type": "execute_result"
    }
   ],
   "source": [
    "tableau_2D[1][1]"
   ]
  },
  {
   "cell_type": "code",
   "execution_count": 20,
   "id": "6adabdfb-0160-4d6e-8e7a-fe08357c0135",
   "metadata": {},
   "outputs": [
    {
     "data": {
      "text/plain": [
       "np.int64(6)"
      ]
     },
     "execution_count": 20,
     "metadata": {},
     "output_type": "execute_result"
    }
   ],
   "source": [
    "tableau_2D[0][2]"
   ]
  },
  {
   "cell_type": "code",
   "execution_count": null,
   "id": "3fac2028-c0a6-4e76-a29f-24e90bcbebf3",
   "metadata": {},
   "outputs": [],
   "source": []
  },
  {
   "cell_type": "markdown",
   "id": "86e13739-622b-4372-a1bc-52f75f3e7a0a",
   "metadata": {},
   "source": [
    "# 3. Tableau 3D"
   ]
  },
  {
   "cell_type": "code",
   "execution_count": 13,
   "id": "144506b4-f1ca-4397-9ae9-de5a32066366",
   "metadata": {},
   "outputs": [],
   "source": [
    "tableau_3D  = np.array([[\n",
    "    [2, 8, 12],\n",
    "    [20, 80, 120],\n",
    "    [200, 800, 1200],\n",
    "    [2000, 8000, 12000],\n",
    "    [20000, 80000, 120000]]])"
   ]
  },
  {
   "cell_type": "code",
   "execution_count": 14,
   "id": "7e772a38-a50e-4c44-b310-576990e01cf2",
   "metadata": {},
   "outputs": [
    {
     "data": {
      "text/plain": [
       "array([[[     2,      8,     12],\n",
       "        [    20,     80,    120],\n",
       "        [   200,    800,   1200],\n",
       "        [  2000,   8000,  12000],\n",
       "        [ 20000,  80000, 120000]]])"
      ]
     },
     "execution_count": 14,
     "metadata": {},
     "output_type": "execute_result"
    }
   ],
   "source": [
    "tableau_3D"
   ]
  },
  {
   "cell_type": "code",
   "execution_count": 15,
   "id": "7db4cdf3-d4ee-4c20-ad79-305a8ef5e82c",
   "metadata": {},
   "outputs": [
    {
     "name": "stdout",
     "output_type": "stream",
     "text": [
      "[[[     2      8     12]\n",
      "  [    20     80    120]\n",
      "  [   200    800   1200]\n",
      "  [  2000   8000  12000]\n",
      "  [ 20000  80000 120000]]]\n"
     ]
    }
   ],
   "source": [
    "print(tableau_3D)"
   ]
  },
  {
   "cell_type": "code",
   "execution_count": 16,
   "id": "3bd1d605-84dd-47f4-bf71-78cbdac06373",
   "metadata": {},
   "outputs": [
    {
     "data": {
      "text/plain": [
       "(1, 5, 3)"
      ]
     },
     "execution_count": 16,
     "metadata": {},
     "output_type": "execute_result"
    }
   ],
   "source": [
    "tableau_3D.shape"
   ]
  },
  {
   "cell_type": "code",
   "execution_count": 26,
   "id": "3f4928a2-6728-4bda-b104-443b98eb5493",
   "metadata": {},
   "outputs": [
    {
     "data": {
      "text/plain": [
       "np.int64(800)"
      ]
     },
     "execution_count": 26,
     "metadata": {},
     "output_type": "execute_result"
    }
   ],
   "source": [
    "tableau_3D[0][2][1]"
   ]
  },
  {
   "cell_type": "markdown",
   "id": "b82202bb-377f-4a69-9522-49aced1ab723",
   "metadata": {},
   "source": [
    "# Manipulation des donnes"
   ]
  },
  {
   "cell_type": "code",
   "execution_count": 34,
   "id": "6ec89e2c-c0de-40ab-b1f6-af0a18db9b00",
   "metadata": {},
   "outputs": [],
   "source": [
    "import pandas as pd"
   ]
  },
  {
   "cell_type": "code",
   "execution_count": 35,
   "id": "fc5fbb78-43cc-45d9-8ed4-de667a8484db",
   "metadata": {},
   "outputs": [],
   "source": [
    "etudiants = {\n",
    "    'nom': \"SANGWA\",\n",
    "    'Prenom': \"Raphael\",\n",
    "    'Age': 10\n",
    "}"
   ]
  },
  {
   "cell_type": "code",
   "execution_count": 36,
   "id": "94237575-b03e-4caa-a565-f68e20fa370e",
   "metadata": {},
   "outputs": [
    {
     "data": {
      "text/plain": [
       "{'nom': 'SANGWA', 'Prenom': 'Raphael', 'Age': 10}"
      ]
     },
     "execution_count": 36,
     "metadata": {},
     "output_type": "execute_result"
    }
   ],
   "source": [
    "etudiants"
   ]
  },
  {
   "cell_type": "code",
   "execution_count": 37,
   "id": "88499e3b-4996-43d7-bc6a-ef442eefcaff",
   "metadata": {},
   "outputs": [],
   "source": [
    "etudiants = {\n",
    "    'nom': ['SANGWA', 'MBAYO', 'MANGI'],\n",
    "    'Prenom': ['Raphael','Keren', 'Marsena'],\n",
    "    'Age': [10 , 15, 12]\n",
    "}"
   ]
  },
  {
   "cell_type": "code",
   "execution_count": 38,
   "id": "e6ba8624-af98-49c4-8883-52ba12fe1afe",
   "metadata": {},
   "outputs": [
    {
     "data": {
      "text/plain": [
       "{'nom': ['SANGWA', 'MBAYO', 'MANGI'],\n",
       " 'Prenom': ['Raphael', 'Keren', 'Marsena'],\n",
       " 'Age': [10, 15, 12]}"
      ]
     },
     "execution_count": 38,
     "metadata": {},
     "output_type": "execute_result"
    }
   ],
   "source": [
    "etudiants"
   ]
  },
  {
   "cell_type": "code",
   "execution_count": 39,
   "id": "0569f8e0-d5f9-45d6-8738-72b2f6ce3bfe",
   "metadata": {},
   "outputs": [],
   "source": [
    "les_etudiants = pd.DataFrame(etudiants)"
   ]
  },
  {
   "cell_type": "code",
   "execution_count": 40,
   "id": "43e5697b-6650-4325-bd33-fb416b821a78",
   "metadata": {},
   "outputs": [
    {
     "data": {
      "text/html": [
       "<div>\n",
       "<style scoped>\n",
       "    .dataframe tbody tr th:only-of-type {\n",
       "        vertical-align: middle;\n",
       "    }\n",
       "\n",
       "    .dataframe tbody tr th {\n",
       "        vertical-align: top;\n",
       "    }\n",
       "\n",
       "    .dataframe thead th {\n",
       "        text-align: right;\n",
       "    }\n",
       "</style>\n",
       "<table border=\"1\" class=\"dataframe\">\n",
       "  <thead>\n",
       "    <tr style=\"text-align: right;\">\n",
       "      <th></th>\n",
       "      <th>nom</th>\n",
       "      <th>Prenom</th>\n",
       "      <th>Age</th>\n",
       "    </tr>\n",
       "  </thead>\n",
       "  <tbody>\n",
       "    <tr>\n",
       "      <th>0</th>\n",
       "      <td>SANGWA</td>\n",
       "      <td>Raphael</td>\n",
       "      <td>10</td>\n",
       "    </tr>\n",
       "    <tr>\n",
       "      <th>1</th>\n",
       "      <td>MBAYO</td>\n",
       "      <td>Keren</td>\n",
       "      <td>15</td>\n",
       "    </tr>\n",
       "    <tr>\n",
       "      <th>2</th>\n",
       "      <td>MANGI</td>\n",
       "      <td>Marsena</td>\n",
       "      <td>12</td>\n",
       "    </tr>\n",
       "  </tbody>\n",
       "</table>\n",
       "</div>"
      ],
      "text/plain": [
       "      nom   Prenom  Age\n",
       "0  SANGWA  Raphael   10\n",
       "1   MBAYO    Keren   15\n",
       "2   MANGI  Marsena   12"
      ]
     },
     "execution_count": 40,
     "metadata": {},
     "output_type": "execute_result"
    }
   ],
   "source": [
    "les_etudiants"
   ]
  },
  {
   "cell_type": "code",
   "execution_count": 41,
   "id": "ca380202-7ea9-4ccf-8185-afafaa4e787f",
   "metadata": {},
   "outputs": [
    {
     "data": {
      "text/plain": [
       "(3, 3)"
      ]
     },
     "execution_count": 41,
     "metadata": {},
     "output_type": "execute_result"
    }
   ],
   "source": [
    "les_etudiants.shape"
   ]
  },
  {
   "cell_type": "code",
   "execution_count": 49,
   "id": "c8b5b49b-c668-4ed3-a62a-aa409715d931",
   "metadata": {},
   "outputs": [
    {
     "data": {
      "text/html": [
       "<div>\n",
       "<style scoped>\n",
       "    .dataframe tbody tr th:only-of-type {\n",
       "        vertical-align: middle;\n",
       "    }\n",
       "\n",
       "    .dataframe tbody tr th {\n",
       "        vertical-align: top;\n",
       "    }\n",
       "\n",
       "    .dataframe thead th {\n",
       "        text-align: right;\n",
       "    }\n",
       "</style>\n",
       "<table border=\"1\" class=\"dataframe\">\n",
       "  <thead>\n",
       "    <tr style=\"text-align: right;\">\n",
       "      <th></th>\n",
       "      <th>Prenom</th>\n",
       "    </tr>\n",
       "  </thead>\n",
       "  <tbody>\n",
       "    <tr>\n",
       "      <th>1</th>\n",
       "      <td>Keren</td>\n",
       "    </tr>\n",
       "  </tbody>\n",
       "</table>\n",
       "</div>"
      ],
      "text/plain": [
       "  Prenom\n",
       "1  Keren"
      ]
     },
     "execution_count": 49,
     "metadata": {},
     "output_type": "execute_result"
    }
   ],
   "source": [
    "les_etudiants.iloc[1:2 , 1:2]"
   ]
  },
  {
   "cell_type": "code",
   "execution_count": null,
   "id": "a1e8ff46-4166-4b1e-ba42-6ac39130243d",
   "metadata": {},
   "outputs": [],
   "source": []
  },
  {
   "cell_type": "code",
   "execution_count": null,
   "id": "cf2cb5b3-42df-497c-b42c-6836040a2ff8",
   "metadata": {},
   "outputs": [],
   "source": []
  }
 ],
 "metadata": {
  "kernelspec": {
   "display_name": "Python 3 (ipykernel)",
   "language": "python",
   "name": "python3"
  },
  "language_info": {
   "codemirror_mode": {
    "name": "ipython",
    "version": 3
   },
   "file_extension": ".py",
   "mimetype": "text/x-python",
   "name": "python",
   "nbconvert_exporter": "python",
   "pygments_lexer": "ipython3",
   "version": "3.10.13"
  }
 },
 "nbformat": 4,
 "nbformat_minor": 5
}
